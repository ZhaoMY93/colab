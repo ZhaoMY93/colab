{
  "cells": [
    {
      "cell_type": "markdown",
      "metadata": {
        "id": "view-in-github",
        "colab_type": "text"
      },
      "source": [
        "<a href=\"https://colab.research.google.com/github/ZhaoMY93/colab/blob/mainf/aug.ipynb\" target=\"_parent\"><img src=\"https://colab.research.google.com/assets/colab-badge.svg\" alt=\"Open In Colab\"/></a>"
      ]
    },
    {
      "cell_type": "code",
      "source": [
        "from google.colab import drive\n",
        "drive.mount('/content/drive')"
      ],
      "metadata": {
        "id": "3mCq6DQAxMUN",
        "outputId": "37eb95ef-eac5-4242-b567-eadcb5654200",
        "colab": {
          "base_uri": "https://localhost:8080/"
        }
      },
      "execution_count": null,
      "outputs": [
        {
          "output_type": "stream",
          "name": "stdout",
          "text": [
            "Mounted at /content/drive\n"
          ]
        }
      ]
    },
    {
      "cell_type": "code",
      "source": [
        "! pip install ydata-synthetic"
      ],
      "metadata": {
        "id": "cPQvp_y-xeZy"
      },
      "execution_count": null,
      "outputs": []
    },
    {
      "cell_type": "code",
      "source": [
        "#Importing the required libs for the exercise\n",
        "\n",
        "from os import path\n",
        "import pandas as pd\n",
        "import numpy as np\n",
        "import matplotlib.pyplot as plt\n",
        "\n",
        "from ydata_synthetic.synthesizers import ModelParameters\n",
        "from ydata_synthetic.preprocessing.timeseries import processed_stock\n",
        "from ydata_synthetic.synthesizers.timeseries import TimeGAN\n",
        "from sklearn.preprocessing import MinMaxScaler"
      ],
      "metadata": {
        "id": "LO_xFUHwxjS2"
      },
      "execution_count": null,
      "outputs": []
    },
    {
      "cell_type": "code",
      "source": [
        "#Specific to TimeGANs\n",
        "seq_len=145\n",
        "n_seq = 1\n",
        "hidden_dim=20\n",
        "gamma=1\n",
        "\n",
        "noise_dim = 10\n",
        "dim = 20\n",
        "batch_size = 1\n",
        "\n",
        "log_step = 100\n",
        "learning_rate = 5e-4\n",
        "\n",
        "gan_args = ModelParameters(batch_size=batch_size,\n",
        "                           lr=learning_rate,\n",
        "                           noise_dim=noise_dim,\n",
        "                           layers_dim=dim)"
      ],
      "metadata": {
        "id": "_RaswGqEyJhl"
      },
      "execution_count": null,
      "outputs": []
    },
    {
      "cell_type": "code",
      "source": [
        "ori_data = np.loadtxt('../content/drive/MyDrive/TimeGAN/TS_data.csv', delimiter = \",\",skiprows = 1)"
      ],
      "metadata": {
        "id": "hVVABNM1m5Zc"
      },
      "execution_count": null,
      "outputs": []
    },
    {
      "cell_type": "code",
      "source": [
        "col1 = ori_data[:,0]\n",
        "col2 = ori_data[:,1]\n",
        "col3 = ori_data[:,2]\n",
        "col4 = ori_data[:,3]"
      ],
      "metadata": {
        "id": "N4G7rZnIk8G-"
      },
      "execution_count": null,
      "outputs": []
    },
    {
      "cell_type": "code",
      "source": [
        "col = np.hstack([col1,col2,col3,col4])\n",
        "col_ = col.reshape(-1,1)"
      ],
      "metadata": {
        "id": "ofQXmw-unn7v"
      },
      "execution_count": null,
      "outputs": []
    },
    {
      "cell_type": "code",
      "source": [
        "ts = MinMaxScaler()\n",
        "std_oridata = ts.fit_transform(col_)"
      ],
      "metadata": {
        "id": "vc2fleVllNGB"
      },
      "execution_count": null,
      "outputs": []
    },
    {
      "cell_type": "code",
      "source": [
        "std_oridata.shape"
      ],
      "metadata": {
        "id": "-vEnMapelaRT",
        "outputId": "3624e3e1-3b66-43c7-b48d-0e3e2e828c9e",
        "colab": {
          "base_uri": "https://localhost:8080/"
        }
      },
      "execution_count": null,
      "outputs": [
        {
          "output_type": "execute_result",
          "data": {
            "text/plain": [
              "(2900, 1)"
            ]
          },
          "metadata": {},
          "execution_count": 14
        }
      ]
    },
    {
      "cell_type": "code",
      "source": [
        "col.min()"
      ],
      "metadata": {
        "colab": {
          "base_uri": "https://localhost:8080/"
        },
        "id": "WRaKjMDcKv0D",
        "outputId": "38a1b254-c0e7-4d78-c91b-04eb02fdaa19"
      },
      "execution_count": null,
      "outputs": [
        {
          "output_type": "execute_result",
          "data": {
            "text/plain": [
              "0.0"
            ]
          },
          "metadata": {},
          "execution_count": 13
        }
      ]
    },
    {
      "cell_type": "code",
      "source": [
        "#第二个用0和用：维度不同\n",
        "s1 = std_oridata[:145*1,:]\n",
        "s2 = std_oridata[145*1:145*2,:]\n",
        "s3 = std_oridata[145*2:145*3,:]\n",
        "s4 = std_oridata[145*3:145*4,:]\n",
        "s5 = std_oridata[145*4:145*5,:]\n",
        "s6 = std_oridata[145*5:145*6,:]\n",
        "s7 = std_oridata[145*6:145*7,:]\n",
        "s8 = std_oridata[145*7:145*8,:]\n",
        "s9 = std_oridata[145*8:145*9,:]\n",
        "s10 = std_oridata[145*9:145*10,:]\n",
        "s11 = std_oridata[145*10:145*11,:]\n",
        "s12 = std_oridata[145*11:145*12,:]\n",
        "s13 = std_oridata[145*12:145*13,:]\n",
        "s14 = std_oridata[145*13:145*14,:]\n",
        "s15 = std_oridata[145*14:145*15,:]\n",
        "s16 = std_oridata[145*15:145*16,:]\n",
        "s17 = std_oridata[145*16:145*17,:]\n",
        "s18 = std_oridata[145*17:145*18,:]\n",
        "s19 = std_oridata[145*18:145*19,:]\n",
        "s20 = std_oridata[145*19:145*20,:]"
      ],
      "metadata": {
        "id": "o_kMitnNrymz"
      },
      "execution_count": null,
      "outputs": []
    },
    {
      "cell_type": "code",
      "source": [
        "list = []\n",
        "list.append(s1)\n",
        "list.append(s2)\n",
        "list.append(s3)\n",
        "list.append(s4)\n",
        "list.append(s5)\n",
        "list.append(s6)\n",
        "list.append(s7)\n",
        "list.append(s8)\n",
        "list.append(s9)\n",
        "list.append(s10)\n",
        "list.append(s11)\n",
        "list.append(s12)\n",
        "list.append(s13)\n",
        "list.append(s14)\n",
        "list.append(s15)\n",
        "list.append(s16)\n",
        "list.append(s17)\n",
        "list.append(s18)\n",
        "list.append(s19)\n",
        "list.append(s20)"
      ],
      "metadata": {
        "id": "fI5xFUfA4asB"
      },
      "execution_count": null,
      "outputs": []
    },
    {
      "cell_type": "code",
      "source": [
        "# for i in range(len(list)):\n",
        "#   list[i] = list[i][:,None]"
      ],
      "metadata": {
        "id": "8_xUIX8A685b"
      },
      "execution_count": null,
      "outputs": []
    },
    {
      "cell_type": "code",
      "source": [
        "synth = TimeGAN(model_parameters=gan_args, hidden_dim=10, seq_len=145, n_seq=1, gamma=1)\n",
        "synth.train(list, train_steps=1000)\n",
        "synth.save('../content/drive/MyDrive/TimeGAN/synthesizer_stock.pkl')"
      ],
      "metadata": {
        "id": "uchndKwixQuw",
        "outputId": "0d7930da-c41a-44ef-85d2-22c047ea85a7",
        "colab": {
          "base_uri": "https://localhost:8080/"
        }
      },
      "execution_count": null,
      "outputs": [
        {
          "output_type": "stream",
          "name": "stderr",
          "text": [
            "Emddeding network training: 100%|██████████| 1000/1000 [02:35<00:00,  6.44it/s]\n",
            "Supervised network training: 100%|██████████| 1000/1000 [01:14<00:00, 13.44it/s]\n",
            "Joint networks training: 100%|██████████| 1000/1000 [1:01:00<00:00,  3.66s/it]\n"
          ]
        }
      ]
    },
    {
      "cell_type": "code",
      "source": [
        "synth_data = synth.sample(len(list))\n",
        "print(synth_data.shape)"
      ],
      "metadata": {
        "id": "fuPlWMFnyHou",
        "outputId": "0a7ac644-9e63-4e6a-be02-9f28a9981a9a",
        "colab": {
          "base_uri": "https://localhost:8080/"
        }
      },
      "execution_count": null,
      "outputs": [
        {
          "output_type": "stream",
          "name": "stderr",
          "text": [
            "Synthetic data generation: 100%|██████████| 21/21 [00:19<00:00,  1.09it/s]"
          ]
        },
        {
          "output_type": "stream",
          "name": "stdout",
          "text": [
            "(21, 145, 1)\n"
          ]
        },
        {
          "output_type": "stream",
          "name": "stderr",
          "text": [
            "\n"
          ]
        }
      ]
    },
    {
      "cell_type": "code",
      "source": [
        "res1 = ts.inverse_transform(synth_data[17])\n",
        "# np.savetxt('../content/drive/MyDrive/TimeGAN/res1', res1)"
      ],
      "metadata": {
        "id": "XxfLAyphz3g5"
      },
      "execution_count": null,
      "outputs": []
    },
    {
      "cell_type": "code",
      "source": [
        "for i in range(20):\n",
        "  res = ts.inverse_transform(synth_data[i])\n",
        "  path = '../content/drive/MyDrive/TimeGAN/resdata2/res2' + 'res' + str(i)\n",
        "  np.savetxt(path, res)"
      ],
      "metadata": {
        "id": "p_6s7zHz0pPb"
      },
      "execution_count": null,
      "outputs": []
    },
    {
      "cell_type": "code",
      "source": [
        "res = ts.inverse_transform(synth_data[5])"
      ],
      "metadata": {
        "id": "60T3wskTTReJ"
      },
      "execution_count": null,
      "outputs": []
    },
    {
      "cell_type": "code",
      "source": [
        "res"
      ],
      "metadata": {
        "id": "3Sdom8e1ULVt",
        "outputId": "e9edbf2b-7bbf-4273-cc6f-fbe46b8ab155",
        "colab": {
          "base_uri": "https://localhost:8080/"
        }
      },
      "execution_count": null,
      "outputs": [
        {
          "output_type": "execute_result",
          "data": {
            "text/plain": [
              "array([[0.1101356 ],\n",
              "       [0.05845973],\n",
              "       [0.05547311],\n",
              "       [0.05446147],\n",
              "       [0.05277497],\n",
              "       [0.05093313],\n",
              "       [0.04920355],\n",
              "       [0.04763322],\n",
              "       [0.04622737],\n",
              "       [0.04495858],\n",
              "       [0.04382293],\n",
              "       [0.04300448],\n",
              "       [0.0440096 ],\n",
              "       [0.07427394],\n",
              "       [0.14421546],\n",
              "       [0.1305159 ],\n",
              "       [0.1539494 ],\n",
              "       [0.18740399],\n",
              "       [0.22306463],\n",
              "       [0.25574255],\n",
              "       [0.2845136 ],\n",
              "       [0.3103215 ],\n",
              "       [0.325329  ],\n",
              "       [0.3395716 ],\n",
              "       [0.34935513],\n",
              "       [0.35217988],\n",
              "       [0.35110167],\n",
              "       [0.35206634],\n",
              "       [0.35070747],\n",
              "       [0.34903142],\n",
              "       [0.34481776],\n",
              "       [0.33929226],\n",
              "       [0.3339221 ],\n",
              "       [0.323666  ],\n",
              "       [0.31745648],\n",
              "       [0.31280687],\n",
              "       [0.30398014],\n",
              "       [0.29769754],\n",
              "       [0.29179218],\n",
              "       [0.28832778],\n",
              "       [0.2851558 ],\n",
              "       [0.2790416 ],\n",
              "       [0.27636564],\n",
              "       [0.2743006 ],\n",
              "       [0.27248877],\n",
              "       [0.26603386],\n",
              "       [0.26217788],\n",
              "       [0.26034388],\n",
              "       [0.25731418],\n",
              "       [0.2506713 ],\n",
              "       [0.24738576],\n",
              "       [0.24078465],\n",
              "       [0.2379651 ],\n",
              "       [0.23540272],\n",
              "       [0.2338076 ],\n",
              "       [0.23003645],\n",
              "       [0.22671175],\n",
              "       [0.22541425],\n",
              "       [0.22209476],\n",
              "       [0.21784717],\n",
              "       [0.21636823],\n",
              "       [0.21424052],\n",
              "       [0.21366747],\n",
              "       [0.21309572],\n",
              "       [0.20883378],\n",
              "       [0.20629099],\n",
              "       [0.20261906],\n",
              "       [0.1998426 ],\n",
              "       [0.1959605 ],\n",
              "       [0.19365266],\n",
              "       [0.19164243],\n",
              "       [0.19051594],\n",
              "       [0.18698367],\n",
              "       [0.18553996],\n",
              "       [0.18409103],\n",
              "       [0.18218654],\n",
              "       [0.17982909],\n",
              "       [0.17744815],\n",
              "       [0.17770009],\n",
              "       [0.17642999],\n",
              "       [0.17529565],\n",
              "       [0.17409082],\n",
              "       [0.17330109],\n",
              "       [0.17208059],\n",
              "       [0.16860315],\n",
              "       [0.16543117],\n",
              "       [0.1637264 ],\n",
              "       [0.16102564],\n",
              "       [0.16036384],\n",
              "       [0.15931435],\n",
              "       [0.15853244],\n",
              "       [0.15752995],\n",
              "       [0.15585127],\n",
              "       [0.1549532 ],\n",
              "       [0.1544624 ],\n",
              "       [0.15427834],\n",
              "       [0.1545629 ],\n",
              "       [0.15219371],\n",
              "       [0.15056464],\n",
              "       [0.1503336 ],\n",
              "       [0.15011038],\n",
              "       [0.14935459],\n",
              "       [0.14824897],\n",
              "       [0.14654027],\n",
              "       [0.14400399],\n",
              "       [0.1439322 ],\n",
              "       [0.1422483 ],\n",
              "       [0.14103957],\n",
              "       [0.14159042],\n",
              "       [0.13966896],\n",
              "       [0.13843149],\n",
              "       [0.13766265],\n",
              "       [0.1362581 ],\n",
              "       [0.13453636],\n",
              "       [0.13386148],\n",
              "       [0.13388237],\n",
              "       [0.13439406],\n",
              "       [0.13483527],\n",
              "       [0.1341565 ],\n",
              "       [0.1332806 ],\n",
              "       [0.13191262],\n",
              "       [0.13208492],\n",
              "       [0.13189957],\n",
              "       [0.13052633],\n",
              "       [0.13012168],\n",
              "       [0.1299324 ],\n",
              "       [0.12859052],\n",
              "       [0.12633097],\n",
              "       [0.12476717],\n",
              "       [0.12506348],\n",
              "       [0.12554124],\n",
              "       [0.12543812],\n",
              "       [0.12346967],\n",
              "       [0.12340961],\n",
              "       [0.12339787],\n",
              "       [0.12345792],\n",
              "       [0.12257289],\n",
              "       [0.12056919],\n",
              "       [0.11909938],\n",
              "       [0.11879523],\n",
              "       [0.11714789],\n",
              "       [0.11667667],\n",
              "       [0.11690901],\n",
              "       [0.11677717],\n",
              "       [0.11635163]], dtype=float32)"
            ]
          },
          "metadata": {},
          "execution_count": 144
        }
      ]
    },
    {
      "cell_type": "code",
      "source": [
        ""
      ],
      "metadata": {
        "id": "M_r_jAF8UMLo"
      },
      "execution_count": null,
      "outputs": []
    }
  ],
  "metadata": {
    "colab": {
      "collapsed_sections": [],
      "name": "“欢迎使用 Colaboratory”的副本",
      "provenance": [],
      "include_colab_link": true
    },
    "kernelspec": {
      "display_name": "Python 3",
      "name": "python3"
    }
  },
  "nbformat": 4,
  "nbformat_minor": 0
}